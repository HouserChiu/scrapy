{
 "cells": [
  {
   "cell_type": "code",
   "execution_count": 20,
   "metadata": {},
   "outputs": [],
   "source": [
    "import pandas as pd\n",
    "import jieba\n",
    "import numpy as np\n",
    "import missingno as msno\n",
    "import pandas_profiling"
   ]
  },
  {
   "cell_type": "code",
   "execution_count": 21,
   "metadata": {},
   "outputs": [
    {
     "data": {
      "text/html": [
       "<div>\n",
       "<style scoped>\n",
       "    .dataframe tbody tr th:only-of-type {\n",
       "        vertical-align: middle;\n",
       "    }\n",
       "\n",
       "    .dataframe tbody tr th {\n",
       "        vertical-align: top;\n",
       "    }\n",
       "\n",
       "    .dataframe thead th {\n",
       "        text-align: right;\n",
       "    }\n",
       "</style>\n",
       "<table border=\"1\" class=\"dataframe\">\n",
       "  <thead>\n",
       "    <tr style=\"text-align: right;\">\n",
       "      <th></th>\n",
       "      <th>author</th>\n",
       "      <th>tags</th>\n",
       "      <th>text</th>\n",
       "    </tr>\n",
       "  </thead>\n",
       "  <tbody>\n",
       "    <tr>\n",
       "      <th>0</th>\n",
       "      <td>Albert Einstein</td>\n",
       "      <td>change,deep-thoughts,thinking,world</td>\n",
       "      <td>“The world as we have created it is a process ...</td>\n",
       "    </tr>\n",
       "    <tr>\n",
       "      <th>1</th>\n",
       "      <td>J.K. Rowling</td>\n",
       "      <td>abilities,choices</td>\n",
       "      <td>“It is our choices, Harry, that show what we t...</td>\n",
       "    </tr>\n",
       "    <tr>\n",
       "      <th>2</th>\n",
       "      <td>Albert Einstein</td>\n",
       "      <td>inspirational,life,live,miracle,miracles</td>\n",
       "      <td>“There are only two ways to live your life. On...</td>\n",
       "    </tr>\n",
       "    <tr>\n",
       "      <th>3</th>\n",
       "      <td>Jane Austen</td>\n",
       "      <td>aliteracy,books,classic,humor</td>\n",
       "      <td>“The person, be it gentleman or lady, who has ...</td>\n",
       "    </tr>\n",
       "    <tr>\n",
       "      <th>4</th>\n",
       "      <td>Marilyn Monroe</td>\n",
       "      <td>be-yourself,inspirational</td>\n",
       "      <td>“Imperfection is beauty, madness is genius and...</td>\n",
       "    </tr>\n",
       "    <tr>\n",
       "      <th>5</th>\n",
       "      <td>Albert Einstein</td>\n",
       "      <td>adulthood,success,value</td>\n",
       "      <td>“Try not to become a man of success. Rather be...</td>\n",
       "    </tr>\n",
       "    <tr>\n",
       "      <th>6</th>\n",
       "      <td>André Gide</td>\n",
       "      <td>life,love</td>\n",
       "      <td>“It is better to be hated for what you are tha...</td>\n",
       "    </tr>\n",
       "    <tr>\n",
       "      <th>7</th>\n",
       "      <td>Thomas A. Edison</td>\n",
       "      <td>edison,failure,inspirational,paraphrased</td>\n",
       "      <td>“I have not failed. I've just found 10,000 way...</td>\n",
       "    </tr>\n",
       "    <tr>\n",
       "      <th>8</th>\n",
       "      <td>Eleanor Roosevelt</td>\n",
       "      <td>misattributed-eleanor-roosevelt</td>\n",
       "      <td>“A woman is like a tea bag; you never know how...</td>\n",
       "    </tr>\n",
       "    <tr>\n",
       "      <th>9</th>\n",
       "      <td>Steve Martin</td>\n",
       "      <td>humor,obvious,simile</td>\n",
       "      <td>“A day without sunshine is like, you know, nig...</td>\n",
       "    </tr>\n",
       "    <tr>\n",
       "      <th>10</th>\n",
       "      <td>Marilyn Monroe</td>\n",
       "      <td>friends,heartbreak,inspirational,life,love,sis...</td>\n",
       "      <td>“This life is what you make it. No matter what...</td>\n",
       "    </tr>\n",
       "    <tr>\n",
       "      <th>11</th>\n",
       "      <td>J.K. Rowling</td>\n",
       "      <td>courage,friends</td>\n",
       "      <td>“It takes a great deal of bravery to stand up ...</td>\n",
       "    </tr>\n",
       "    <tr>\n",
       "      <th>12</th>\n",
       "      <td>Albert Einstein</td>\n",
       "      <td>simplicity,understand</td>\n",
       "      <td>“If you can't explain it to a six year old, yo...</td>\n",
       "    </tr>\n",
       "    <tr>\n",
       "      <th>13</th>\n",
       "      <td>Bob Marley</td>\n",
       "      <td>love</td>\n",
       "      <td>“You may not be her first, her last, or her on...</td>\n",
       "    </tr>\n",
       "    <tr>\n",
       "      <th>14</th>\n",
       "      <td>Dr. Seuss</td>\n",
       "      <td>fantasy</td>\n",
       "      <td>“I like nonsense, it wakes up the brain cells....</td>\n",
       "    </tr>\n",
       "    <tr>\n",
       "      <th>15</th>\n",
       "      <td>Douglas Adams</td>\n",
       "      <td>life,navigation</td>\n",
       "      <td>“I may not have gone where I intended to go, b...</td>\n",
       "    </tr>\n",
       "    <tr>\n",
       "      <th>16</th>\n",
       "      <td>Elie Wiesel</td>\n",
       "      <td>activism,apathy,hate,indifference,inspirationa...</td>\n",
       "      <td>“The opposite of love is not hate, it's indiff...</td>\n",
       "    </tr>\n",
       "    <tr>\n",
       "      <th>17</th>\n",
       "      <td>Friedrich Nietzsche</td>\n",
       "      <td>friendship,lack-of-friendship,lack-of-love,lov...</td>\n",
       "      <td>“It is not a lack of love, but a lack of frien...</td>\n",
       "    </tr>\n",
       "    <tr>\n",
       "      <th>18</th>\n",
       "      <td>Mark Twain</td>\n",
       "      <td>books,contentment,friends,friendship,life</td>\n",
       "      <td>“Good friends, good books, and a sleepy consci...</td>\n",
       "    </tr>\n",
       "    <tr>\n",
       "      <th>19</th>\n",
       "      <td>Allen Saunders</td>\n",
       "      <td>fate,life,misattributed-john-lennon,planning,p...</td>\n",
       "      <td>“Life is what happens to us while we are makin...</td>\n",
       "    </tr>\n",
       "  </tbody>\n",
       "</table>\n",
       "</div>"
      ],
      "text/plain": [
       "                 author                                               tags  \\\n",
       "0       Albert Einstein                change,deep-thoughts,thinking,world   \n",
       "1          J.K. Rowling                                  abilities,choices   \n",
       "2       Albert Einstein           inspirational,life,live,miracle,miracles   \n",
       "3           Jane Austen                      aliteracy,books,classic,humor   \n",
       "4        Marilyn Monroe                          be-yourself,inspirational   \n",
       "5       Albert Einstein                            adulthood,success,value   \n",
       "6            André Gide                                          life,love   \n",
       "7      Thomas A. Edison           edison,failure,inspirational,paraphrased   \n",
       "8     Eleanor Roosevelt                    misattributed-eleanor-roosevelt   \n",
       "9          Steve Martin                               humor,obvious,simile   \n",
       "10       Marilyn Monroe  friends,heartbreak,inspirational,life,love,sis...   \n",
       "11         J.K. Rowling                                    courage,friends   \n",
       "12      Albert Einstein                              simplicity,understand   \n",
       "13           Bob Marley                                               love   \n",
       "14            Dr. Seuss                                            fantasy   \n",
       "15        Douglas Adams                                    life,navigation   \n",
       "16          Elie Wiesel  activism,apathy,hate,indifference,inspirationa...   \n",
       "17  Friedrich Nietzsche  friendship,lack-of-friendship,lack-of-love,lov...   \n",
       "18           Mark Twain          books,contentment,friends,friendship,life   \n",
       "19       Allen Saunders  fate,life,misattributed-john-lennon,planning,p...   \n",
       "\n",
       "                                                 text  \n",
       "0   “The world as we have created it is a process ...  \n",
       "1   “It is our choices, Harry, that show what we t...  \n",
       "2   “There are only two ways to live your life. On...  \n",
       "3   “The person, be it gentleman or lady, who has ...  \n",
       "4   “Imperfection is beauty, madness is genius and...  \n",
       "5   “Try not to become a man of success. Rather be...  \n",
       "6   “It is better to be hated for what you are tha...  \n",
       "7   “I have not failed. I've just found 10,000 way...  \n",
       "8   “A woman is like a tea bag; you never know how...  \n",
       "9   “A day without sunshine is like, you know, nig...  \n",
       "10  “This life is what you make it. No matter what...  \n",
       "11  “It takes a great deal of bravery to stand up ...  \n",
       "12  “If you can't explain it to a six year old, yo...  \n",
       "13  “You may not be her first, her last, or her on...  \n",
       "14  “I like nonsense, it wakes up the brain cells....  \n",
       "15  “I may not have gone where I intended to go, b...  \n",
       "16  “The opposite of love is not hate, it's indiff...  \n",
       "17  “It is not a lack of love, but a lack of frien...  \n",
       "18  “Good friends, good books, and a sleepy consci...  \n",
       "19  “Life is what happens to us while we are makin...  "
      ]
     },
     "execution_count": 21,
     "metadata": {},
     "output_type": "execute_result"
    }
   ],
   "source": [
    "df_news = pd.read_csv('quotes.csv')\n",
    "df_news = df_news.dropna()\n",
    "df_news.head(20)"
   ]
  },
  {
   "cell_type": "code",
   "execution_count": 22,
   "metadata": {},
   "outputs": [
    {
     "data": {
      "text/plain": [
       "(97, 3)"
      ]
     },
     "execution_count": 22,
     "metadata": {},
     "output_type": "execute_result"
    }
   ],
   "source": [
    "df_news.shape"
   ]
  },
  {
   "cell_type": "code",
   "execution_count": 23,
   "metadata": {},
   "outputs": [
    {
     "data": {
      "text/html": [
       "<div>\n",
       "<style scoped>\n",
       "    .dataframe tbody tr th:only-of-type {\n",
       "        vertical-align: middle;\n",
       "    }\n",
       "\n",
       "    .dataframe tbody tr th {\n",
       "        vertical-align: top;\n",
       "    }\n",
       "\n",
       "    .dataframe thead th {\n",
       "        text-align: right;\n",
       "    }\n",
       "</style>\n",
       "<table border=\"1\" class=\"dataframe\">\n",
       "  <thead>\n",
       "    <tr style=\"text-align: right;\">\n",
       "      <th></th>\n",
       "      <th>count</th>\n",
       "      <th>unique</th>\n",
       "      <th>top</th>\n",
       "      <th>freq</th>\n",
       "    </tr>\n",
       "  </thead>\n",
       "  <tbody>\n",
       "    <tr>\n",
       "      <th>author</th>\n",
       "      <td>97</td>\n",
       "      <td>49</td>\n",
       "      <td>Albert Einstein</td>\n",
       "      <td>10</td>\n",
       "    </tr>\n",
       "    <tr>\n",
       "      <th>tags</th>\n",
       "      <td>97</td>\n",
       "      <td>83</td>\n",
       "      <td>love</td>\n",
       "      <td>4</td>\n",
       "    </tr>\n",
       "    <tr>\n",
       "      <th>text</th>\n",
       "      <td>97</td>\n",
       "      <td>97</td>\n",
       "      <td>“The more that you read, the more things you w...</td>\n",
       "      <td>1</td>\n",
       "    </tr>\n",
       "  </tbody>\n",
       "</table>\n",
       "</div>"
      ],
      "text/plain": [
       "       count unique                                                top freq\n",
       "author    97     49                                    Albert Einstein   10\n",
       "tags      97     83                                               love    4\n",
       "text      97     97  “The more that you read, the more things you w...    1"
      ]
     },
     "execution_count": 23,
     "metadata": {},
     "output_type": "execute_result"
    }
   ],
   "source": [
    "df_news.describe().T"
   ]
  },
  {
   "cell_type": "code",
   "execution_count": 24,
   "metadata": {},
   "outputs": [
    {
     "name": "stdout",
     "output_type": "stream",
     "text": [
      "tags: 0\n"
     ]
    }
   ],
   "source": [
    "print(\"tags:\", len(df_news[(df_news.tags.isnull())]))"
   ]
  },
  {
   "cell_type": "code",
   "execution_count": 25,
   "metadata": {
    "scrolled": true
   },
   "outputs": [
    {
     "data": {
      "text/plain": [
       "<matplotlib.axes._subplots.AxesSubplot at 0x7fe3de2b1c90>"
      ]
     },
     "execution_count": 25,
     "metadata": {},
     "output_type": "execute_result"
    },
    {
     "data": {
      "image/png": "[encoded data removed]",
      "text/plain": [
       "<Figure size 1152x504 with 2 Axes>"
      ]
     },
     "metadata": {},
     "output_type": "display_data"
    }
   ],
   "source": [
    "msno.matrix(df_news.sample(97),\n",
    "            figsize=(16, 7),\n",
    "            width_ratios=(15, 1))"
   ]
  },
  {
   "cell_type": "code",
   "execution_count": 26,
   "metadata": {},
   "outputs": [
    {
     "name": "stderr",
     "output_type": "stream",
     "text": [
      "/home/houser/anaconda3/lib/python3.7/site-packages/pandas_profiling/model/correlations.py:35: RuntimeWarning: invalid value encountered in double_scalars\n",
      "  return np.sqrt(phi2corr / min((kcorr - 1.0), (rcorr - 1.0)))\n",
      "/home/houser/anaconda3/lib/python3.7/site-packages/pandas_profiling/model/correlations.py:35: RuntimeWarning: divide by zero encountered in double_scalars\n",
      "  return np.sqrt(phi2corr / min((kcorr - 1.0), (rcorr - 1.0)))\n"
     ]
    },
    {
     "data": {
      "application/vnd.jupyter.widget-view+json": {
       "model_id": "24f4a32dc1354376a7a805676dfc4b11",
       "version_major": 2,
       "version_minor": 0
      },
      "text/plain": [
       "Tab(children=(HTML(value='<div id=\"overview-content\" class=\"row variable spacing\">\\n    <div class=\"row\">\\n   …"
      ]
     },
     "metadata": {},
     "output_type": "display_data"
    },
    {
     "data": {
      "text/html": [
       "Report generated with <a href=\"https://github.com/pandas-profiling/pandas-profiling\">pandas-profiling</a>."
      ],
      "text/plain": [
       "<IPython.core.display.HTML object>"
      ]
     },
     "metadata": {},
     "output_type": "display_data"
    },
    {
     "data": {
      "text/plain": []
     },
     "execution_count": 26,
     "metadata": {},
     "output_type": "execute_result"
    }
   ],
   "source": [
    "pandas_profiling.ProfileReport(df_news)"
   ]
  },
  {
   "cell_type": "code",
   "execution_count": 27,
   "metadata": {},
   "outputs": [
    {
     "name": "stdout",
     "output_type": "stream",
     "text": [
      "“It takes courage to grow up and become who you really are.”\n"
     ]
    }
   ],
   "source": [
    "content = df_news.text.values.tolist()\n",
    "print (content[90])"
   ]
  },
  {
   "cell_type": "code",
   "execution_count": 6,
   "metadata": {},
   "outputs": [
    {
     "name": "stderr",
     "output_type": "stream",
     "text": [
      "Building prefix dict from the default dictionary ...\n",
      "Loading model from cache /tmp/jieba.cache\n",
      "Loading model cost 1.360 seconds.\n",
      "Prefix dict has been built successfully.\n"
     ]
    }
   ],
   "source": [
    "content_S = []\n",
    "for line in content:\n",
    "    current_segment = jieba.lcut(line)\n",
    "    if len(current_segment) > 1 and current_segment != '\\r\\n': #换行符\n",
    "        content_S.append(current_segment)"
   ]
  },
  {
   "cell_type": "code",
   "execution_count": 7,
   "metadata": {},
   "outputs": [
    {
     "data": {
      "text/plain": [
       "['“',\n",
       " 'It',\n",
       " ' ',\n",
       " 'takes',\n",
       " ' ',\n",
       " 'courage',\n",
       " ' ',\n",
       " 'to',\n",
       " ' ',\n",
       " 'grow',\n",
       " ' ',\n",
       " 'up',\n",
       " ' ',\n",
       " 'and',\n",
       " ' ',\n",
       " 'become',\n",
       " ' ',\n",
       " 'who',\n",
       " ' ',\n",
       " 'you',\n",
       " ' ',\n",
       " 'really',\n",
       " ' ',\n",
       " 'are',\n",
       " '.',\n",
       " '”']"
      ]
     },
     "execution_count": 7,
     "metadata": {},
     "output_type": "execute_result"
    }
   ],
   "source": [
    "content_S[90]"
   ]
  },
  {
   "cell_type": "code",
   "execution_count": 8,
   "metadata": {},
   "outputs": [
    {
     "data": {
      "text/html": [
       "<div>\n",
       "<style scoped>\n",
       "    .dataframe tbody tr th:only-of-type {\n",
       "        vertical-align: middle;\n",
       "    }\n",
       "\n",
       "    .dataframe tbody tr th {\n",
       "        vertical-align: top;\n",
       "    }\n",
       "\n",
       "    .dataframe thead th {\n",
       "        text-align: right;\n",
       "    }\n",
       "</style>\n",
       "<table border=\"1\" class=\"dataframe\">\n",
       "  <thead>\n",
       "    <tr style=\"text-align: right;\">\n",
       "      <th></th>\n",
       "      <th>content_S</th>\n",
       "    </tr>\n",
       "  </thead>\n",
       "  <tbody>\n",
       "    <tr>\n",
       "      <th>0</th>\n",
       "      <td>[“, The,  , world,  , as,  , we,  , have,  , c...</td>\n",
       "    </tr>\n",
       "    <tr>\n",
       "      <th>1</th>\n",
       "      <td>[“, It,  , is,  , our,  , choices, ,,  , Harry...</td>\n",
       "    </tr>\n",
       "    <tr>\n",
       "      <th>2</th>\n",
       "      <td>[“, There,  , are,  , only,  , two,  , ways,  ...</td>\n",
       "    </tr>\n",
       "    <tr>\n",
       "      <th>3</th>\n",
       "      <td>[“, The,  , person, ,,  , be,  , it,  , gentle...</td>\n",
       "    </tr>\n",
       "    <tr>\n",
       "      <th>4</th>\n",
       "      <td>[“, Imperfection,  , is,  , beauty, ,,  , madn...</td>\n",
       "    </tr>\n",
       "  </tbody>\n",
       "</table>\n",
       "</div>"
      ],
      "text/plain": [
       "                                           content_S\n",
       "0  [“, The,  , world,  , as,  , we,  , have,  , c...\n",
       "1  [“, It,  , is,  , our,  , choices, ,,  , Harry...\n",
       "2  [“, There,  , are,  , only,  , two,  , ways,  ...\n",
       "3  [“, The,  , person, ,,  , be,  , it,  , gentle...\n",
       "4  [“, Imperfection,  , is,  , beauty, ,,  , madn..."
      ]
     },
     "execution_count": 8,
     "metadata": {},
     "output_type": "execute_result"
    }
   ],
   "source": [
    "df_content=pd.DataFrame({'content_S':content_S})\n",
    "df_content.head()"
   ]
  },
  {
   "cell_type": "code",
   "execution_count": 9,
   "metadata": {},
   "outputs": [
    {
     "data": {
      "text/html": [
       "<div>\n",
       "<style scoped>\n",
       "    .dataframe tbody tr th:only-of-type {\n",
       "        vertical-align: middle;\n",
       "    }\n",
       "\n",
       "    .dataframe tbody tr th {\n",
       "        vertical-align: top;\n",
       "    }\n",
       "\n",
       "    .dataframe thead th {\n",
       "        text-align: right;\n",
       "    }\n",
       "</style>\n",
       "<table border=\"1\" class=\"dataframe\">\n",
       "  <thead>\n",
       "    <tr style=\"text-align: right;\">\n",
       "      <th></th>\n",
       "      <th>stopword</th>\n",
       "    </tr>\n",
       "  </thead>\n",
       "  <tbody>\n",
       "    <tr>\n",
       "      <th>0</th>\n",
       "      <td>!</td>\n",
       "    </tr>\n",
       "    <tr>\n",
       "      <th>1</th>\n",
       "      <td>\"</td>\n",
       "    </tr>\n",
       "    <tr>\n",
       "      <th>2</th>\n",
       "      <td>#</td>\n",
       "    </tr>\n",
       "    <tr>\n",
       "      <th>3</th>\n",
       "      <td>$</td>\n",
       "    </tr>\n",
       "    <tr>\n",
       "      <th>4</th>\n",
       "      <td>%</td>\n",
       "    </tr>\n",
       "    <tr>\n",
       "      <th>5</th>\n",
       "      <td>&amp;</td>\n",
       "    </tr>\n",
       "    <tr>\n",
       "      <th>6</th>\n",
       "      <td>'</td>\n",
       "    </tr>\n",
       "    <tr>\n",
       "      <th>7</th>\n",
       "      <td>(</td>\n",
       "    </tr>\n",
       "    <tr>\n",
       "      <th>8</th>\n",
       "      <td>)</td>\n",
       "    </tr>\n",
       "    <tr>\n",
       "      <th>9</th>\n",
       "      <td>*</td>\n",
       "    </tr>\n",
       "    <tr>\n",
       "      <th>10</th>\n",
       "      <td>+</td>\n",
       "    </tr>\n",
       "    <tr>\n",
       "      <th>11</th>\n",
       "      <td>,</td>\n",
       "    </tr>\n",
       "    <tr>\n",
       "      <th>12</th>\n",
       "      <td>-</td>\n",
       "    </tr>\n",
       "    <tr>\n",
       "      <th>13</th>\n",
       "      <td>--</td>\n",
       "    </tr>\n",
       "    <tr>\n",
       "      <th>14</th>\n",
       "      <td>.</td>\n",
       "    </tr>\n",
       "    <tr>\n",
       "      <th>15</th>\n",
       "      <td>..</td>\n",
       "    </tr>\n",
       "    <tr>\n",
       "      <th>16</th>\n",
       "      <td>...</td>\n",
       "    </tr>\n",
       "    <tr>\n",
       "      <th>17</th>\n",
       "      <td>......</td>\n",
       "    </tr>\n",
       "    <tr>\n",
       "      <th>18</th>\n",
       "      <td>...................</td>\n",
       "    </tr>\n",
       "    <tr>\n",
       "      <th>19</th>\n",
       "      <td>./</td>\n",
       "    </tr>\n",
       "  </tbody>\n",
       "</table>\n",
       "</div>"
      ],
      "text/plain": [
       "               stopword\n",
       "0                     !\n",
       "1                     \"\n",
       "2                     #\n",
       "3                     $\n",
       "4                     %\n",
       "5                     &\n",
       "6                     '\n",
       "7                     (\n",
       "8                     )\n",
       "9                     *\n",
       "10                    +\n",
       "11                    ,\n",
       "12                    -\n",
       "13                   --\n",
       "14                    .\n",
       "15                   ..\n",
       "16                  ...\n",
       "17               ......\n",
       "18  ...................\n",
       "19                   ./"
      ]
     },
     "execution_count": 9,
     "metadata": {},
     "output_type": "execute_result"
    }
   ],
   "source": [
    "stopwords=pd.read_csv(\"stopwords.txt\",index_col=False,sep=\"\\t\",quoting=3,names=['stopword'], encoding='utf-8')\n",
    "stopwords.head(20)"
   ]
  },
  {
   "cell_type": "code",
   "execution_count": 10,
   "metadata": {},
   "outputs": [],
   "source": [
    "def drop_stopwords(contents,stopwords):\n",
    "    contents_clean = []\n",
    "    all_words = []\n",
    "    for line in contents:\n",
    "        line_clean = []\n",
    "        for word in line:\n",
    "            if word in stopwords:\n",
    "                continue\n",
    "            line_clean.append(word)\n",
    "            all_words.append(str(word))\n",
    "        contents_clean.append(line_clean)\n",
    "    return contents_clean,all_words\n",
    "    #print (contents_clean)\n",
    "        \n",
    "\n",
    "contents = df_content.content_S.values.tolist()    \n",
    "stopwords = stopwords.stopword.values.tolist()\n",
    "contents_clean,all_words = drop_stopwords(contents,stopwords)\n",
    "\n",
    "#df_content.content_S.isin(stopwords.stopword)\n",
    "#df_content=df_content[~df_content.content_S.isin(stopwords.stopword)]\n",
    "#df_content.head()"
   ]
  },
  {
   "cell_type": "code",
   "execution_count": 11,
   "metadata": {},
   "outputs": [
    {
     "data": {
      "text/html": [
       "<div>\n",
       "<style scoped>\n",
       "    .dataframe tbody tr th:only-of-type {\n",
       "        vertical-align: middle;\n",
       "    }\n",
       "\n",
       "    .dataframe tbody tr th {\n",
       "        vertical-align: top;\n",
       "    }\n",
       "\n",
       "    .dataframe thead th {\n",
       "        text-align: right;\n",
       "    }\n",
       "</style>\n",
       "<table border=\"1\" class=\"dataframe\">\n",
       "  <thead>\n",
       "    <tr style=\"text-align: right;\">\n",
       "      <th></th>\n",
       "      <th>contents_clean</th>\n",
       "    </tr>\n",
       "  </thead>\n",
       "  <tbody>\n",
       "    <tr>\n",
       "      <th>0</th>\n",
       "      <td>[The,  , world,  ,  ,  ,  , created,  ,  ,  , ...</td>\n",
       "    </tr>\n",
       "    <tr>\n",
       "      <th>1</th>\n",
       "      <td>[It,  ,  ,  , choices,  , Harry,  ,  , show,  ...</td>\n",
       "    </tr>\n",
       "    <tr>\n",
       "      <th>2</th>\n",
       "      <td>[There,  ,  ,  ,  , ways,  ,  , live,  ,  , li...</td>\n",
       "    </tr>\n",
       "    <tr>\n",
       "      <th>3</th>\n",
       "      <td>[The,  , person,  ,  ,  , gentleman,  ,  , lad...</td>\n",
       "    </tr>\n",
       "    <tr>\n",
       "      <th>4</th>\n",
       "      <td>[Imperfection,  ,  , beauty,  , madness,  ,  ,...</td>\n",
       "    </tr>\n",
       "  </tbody>\n",
       "</table>\n",
       "</div>"
      ],
      "text/plain": [
       "                                      contents_clean\n",
       "0  [The,  , world,  ,  ,  ,  , created,  ,  ,  , ...\n",
       "1  [It,  ,  ,  , choices,  , Harry,  ,  , show,  ...\n",
       "2  [There,  ,  ,  ,  , ways,  ,  , live,  ,  , li...\n",
       "3  [The,  , person,  ,  ,  , gentleman,  ,  , lad...\n",
       "4  [Imperfection,  ,  , beauty,  , madness,  ,  ,..."
      ]
     },
     "execution_count": 11,
     "metadata": {},
     "output_type": "execute_result"
    }
   ],
   "source": [
    "df_content=pd.DataFrame({'contents_clean':contents_clean})\n",
    "df_content.head()"
   ]
  },
  {
   "cell_type": "code",
   "execution_count": 12,
   "metadata": {},
   "outputs": [
    {
     "data": {
      "text/html": [
       "<div>\n",
       "<style scoped>\n",
       "    .dataframe tbody tr th:only-of-type {\n",
       "        vertical-align: middle;\n",
       "    }\n",
       "\n",
       "    .dataframe tbody tr th {\n",
       "        vertical-align: top;\n",
       "    }\n",
       "\n",
       "    .dataframe thead th {\n",
       "        text-align: right;\n",
       "    }\n",
       "</style>\n",
       "<table border=\"1\" class=\"dataframe\">\n",
       "  <thead>\n",
       "    <tr style=\"text-align: right;\">\n",
       "      <th></th>\n",
       "      <th>all_words</th>\n",
       "    </tr>\n",
       "  </thead>\n",
       "  <tbody>\n",
       "    <tr>\n",
       "      <th>0</th>\n",
       "      <td>The</td>\n",
       "    </tr>\n",
       "    <tr>\n",
       "      <th>1</th>\n",
       "      <td></td>\n",
       "    </tr>\n",
       "    <tr>\n",
       "      <th>2</th>\n",
       "      <td>world</td>\n",
       "    </tr>\n",
       "    <tr>\n",
       "      <th>3</th>\n",
       "      <td></td>\n",
       "    </tr>\n",
       "    <tr>\n",
       "      <th>4</th>\n",
       "      <td></td>\n",
       "    </tr>\n",
       "  </tbody>\n",
       "</table>\n",
       "</div>"
      ],
      "text/plain": [
       "  all_words\n",
       "0       The\n",
       "1          \n",
       "2     world\n",
       "3          \n",
       "4          "
      ]
     },
     "execution_count": 12,
     "metadata": {},
     "output_type": "execute_result"
    }
   ],
   "source": [
    "df_all_words=pd.DataFrame({'all_words':all_words})\n",
    "df_all_words.head()"
   ]
  },
  {
   "cell_type": "code",
   "execution_count": 13,
   "metadata": {},
   "outputs": [
    {
     "name": "stderr",
     "output_type": "stream",
     "text": [
      "/home/houser/anaconda3/lib/python3.7/site-packages/ipykernel_launcher.py:1: FutureWarning: using a dict on a Series for aggregation\n",
      "is deprecated and will be removed in a future version. Use                 named aggregation instead.\n",
      "\n",
      "    >>> grouper.agg(name_1=func_1, name_2=func_2)\n",
      "\n",
      "  \"\"\"Entry point for launching an IPython kernel.\n"
     ]
    },
    {
     "data": {
      "text/html": [
       "<div>\n",
       "<style scoped>\n",
       "    .dataframe tbody tr th:only-of-type {\n",
       "        vertical-align: middle;\n",
       "    }\n",
       "\n",
       "    .dataframe tbody tr th {\n",
       "        vertical-align: top;\n",
       "    }\n",
       "\n",
       "    .dataframe thead th {\n",
       "        text-align: right;\n",
       "    }\n",
       "</style>\n",
       "<table border=\"1\" class=\"dataframe\">\n",
       "  <thead>\n",
       "    <tr style=\"text-align: right;\">\n",
       "      <th></th>\n",
       "      <th>all_words</th>\n",
       "      <th>count</th>\n",
       "    </tr>\n",
       "  </thead>\n",
       "  <tbody>\n",
       "    <tr>\n",
       "      <th>0</th>\n",
       "      <td></td>\n",
       "      <td>2205</td>\n",
       "    </tr>\n",
       "    <tr>\n",
       "      <th>74</th>\n",
       "      <td>a</td>\n",
       "      <td>60</td>\n",
       "    </tr>\n",
       "    <tr>\n",
       "      <th>28</th>\n",
       "      <td>I</td>\n",
       "      <td>58</td>\n",
       "    </tr>\n",
       "    <tr>\n",
       "      <th>308</th>\n",
       "      <td>love</td>\n",
       "      <td>20</td>\n",
       "    </tr>\n",
       "    <tr>\n",
       "      <th>439</th>\n",
       "      <td>t</td>\n",
       "      <td>19</td>\n",
       "    </tr>\n",
       "  </tbody>\n",
       "</table>\n",
       "</div>"
      ],
      "text/plain": [
       "    all_words  count\n",
       "0               2205\n",
       "74          a     60\n",
       "28          I     58\n",
       "308      love     20\n",
       "439         t     19"
      ]
     },
     "execution_count": 13,
     "metadata": {},
     "output_type": "execute_result"
    }
   ],
   "source": [
    "words_count=df_all_words.groupby(by=['all_words'])['all_words'].agg({\"count\":np.size})\n",
    "words_count=words_count.reset_index().sort_values(by=[\"count\"],ascending=False)\n",
    "words_count.head()"
   ]
  },
  {
   "cell_type": "code",
   "execution_count": 14,
   "metadata": {},
   "outputs": [
    {
     "data": {
      "text/plain": [
       "<matplotlib.image.AxesImage at 0x7f67eee0f210>"
      ]
     },
     "execution_count": 14,
     "metadata": {},
     "output_type": "execute_result"
    },
    {
     "data": {
      "image/png": "[encoded data removed]",
      "text/plain": [
       "<Figure size 720x360 with 1 Axes>"
      ]
     },
     "metadata": {
      "needs_background": "light"
     },
     "output_type": "display_data"
    }
   ],
   "source": [
    "from wordcloud import WordCloud\n",
    "import matplotlib.pyplot as plt\n",
    "%matplotlib inline\n",
    "import matplotlib\n",
    "matplotlib.rcParams['figure.figsize'] = (10.0, 5.0)\n",
    "\n",
    "wordcloud=WordCloud(font_path=\"./data/NotoSansCJK-Black.ttc\",background_color=\"white\",max_font_size=80)\n",
    "word_frequence = {x[0]:x[1] for x in words_count.head(100).values}\n",
    "wordcloud=wordcloud.fit_words(word_frequence)\n",
    "plt.imshow(wordcloud)"
   ]
  },
  {
   "cell_type": "code",
   "execution_count": 15,
   "metadata": {},
   "outputs": [
    {
     "name": "stdout",
     "output_type": "stream",
     "text": [
      "“The truth.\" Dumbledore sighed. \"It is a beautiful and terrible thing, and should therefore be treated with great caution.”\n",
      "takes  courage  grow  up  become\n"
     ]
    }
   ],
   "source": [
    "import jieba.analyse\n",
    "index = 90 #序号\n",
    "print (df_news['text'][index])\n",
    "content_S_str = \"\".join(content_S[index])  \n",
    "print (\"  \".join(jieba.analyse.extract_tags(content_S_str, topK=5, withWeight=False)))"
   ]
  },
  {
   "cell_type": "code",
   "execution_count": 16,
   "metadata": {},
   "outputs": [],
   "source": [
    "from gensim import corpora, models, similarities\n",
    "import gensim\n",
    "#http://radimrehurek.com/gensim/"
   ]
  },
  {
   "cell_type": "code",
   "execution_count": 17,
   "metadata": {},
   "outputs": [],
   "source": [
    "#做映射，相当于词袋\n",
    "dictionary = corpora.Dictionary(contents_clean)\n",
    "corpus = [dictionary.doc2bow(sentence) for sentence in contents_clean]"
   ]
  },
  {
   "cell_type": "code",
   "execution_count": 18,
   "metadata": {},
   "outputs": [],
   "source": [
    "lda = gensim.models.ldamodel.LdaModel(corpus=corpus, id2word=dictionary, num_topics=20) #类似Kmeans自己指定K值"
   ]
  },
  {
   "cell_type": "code",
   "execution_count": 19,
   "metadata": {},
   "outputs": [
    {
     "name": "stdout",
     "output_type": "stream",
     "text": [
      "0.243*\" \" + 0.043*\"′\" + 0.022*\"t\" + 0.022*\"don\" + 0.022*\"a\"\n"
     ]
    }
   ],
   "source": [
    "#一号分类结果\n",
    "print (lda.print_topic(1, topn=5))"
   ]
  },
  {
   "cell_type": "code",
   "execution_count": 20,
   "metadata": {
    "scrolled": true
   },
   "outputs": [
    {
     "name": "stdout",
     "output_type": "stream",
     "text": [
      "0.002*\" \" + 0.002*\"a\" + 0.002*\"airless\" + 0.002*\"Lock\" + 0.002*\"madly\"\n",
      "0.243*\" \" + 0.043*\"′\" + 0.022*\"t\" + 0.022*\"don\" + 0.022*\"a\"\n",
      "0.513*\" \" + 0.018*\"It\" + 0.011*\"Harry\" + 0.010*\"show\" + 0.010*\"Some\"\n",
      "0.660*\" \" + 0.018*\"a\" + 0.008*\"The\" + 0.008*\"s\" + 0.006*\"make\"\n",
      "0.002*\" \" + 0.002*\"a\" + 0.002*\"airless\" + 0.002*\"Lock\" + 0.002*\"madly\"\n",
      "0.002*\" \" + 0.002*\"a\" + 0.002*\"airless\" + 0.002*\"Lock\" + 0.002*\"madly\"\n",
      "0.002*\" \" + 0.002*\"a\" + 0.002*\"airless\" + 0.002*\"Lock\" + 0.002*\"madly\"\n",
      "0.667*\" \" + 0.031*\"I\" + 0.018*\"a\" + 0.007*\"love\" + 0.005*\"s\"\n",
      "0.002*\" \" + 0.002*\"a\" + 0.002*\"airless\" + 0.002*\"Lock\" + 0.002*\"madly\"\n",
      "0.570*\" \" + 0.015*\"day\" + 0.009*\"t\" + 0.008*\"thing\" + 0.008*\"don\"\n",
      "0.002*\" \" + 0.002*\"a\" + 0.002*\"I\" + 0.002*\"airless\" + 0.002*\"Wrap\"\n",
      "0.002*\" \" + 0.002*\"a\" + 0.002*\"airless\" + 0.002*\"Lock\" + 0.002*\"madly\"\n",
      "0.258*\" \" + 0.026*\"lost\" + 0.026*\"Not\" + 0.026*\"wander\" + 0.011*\"madly\"\n",
      "0.647*\" \" + 0.012*\"read\" + 0.010*\"tales\" + 0.010*\"fairy\" + 0.009*\"I\"\n",
      "0.002*\" \" + 0.002*\"a\" + 0.002*\"airless\" + 0.002*\"Lock\" + 0.002*\"madly\"\n",
      "0.002*\" \" + 0.002*\"a\" + 0.002*\"airless\" + 0.002*\"Lock\" + 0.002*\"madly\"\n",
      "0.002*\" \" + 0.002*\"a\" + 0.002*\"airless\" + 0.002*\"Lock\" + 0.002*\"madly\"\n",
      "0.246*\" \" + 0.050*\"I\" + 0.026*\"hate\" + 0.026*\"free\" + 0.026*\"prejudice\"\n",
      "0.674*\" \" + 0.023*\"a\" + 0.021*\"I\" + 0.008*\"love\" + 0.005*\"s\"\n",
      "0.002*\" \" + 0.002*\"a\" + 0.002*\"airless\" + 0.002*\"Lock\" + 0.002*\"madly\"\n"
     ]
    }
   ],
   "source": [
    "for topic in lda.print_topics(num_topics=20, num_words=5):\n",
    "    print (topic[1])"
   ]
  },
  {
   "cell_type": "code",
   "execution_count": 21,
   "metadata": {},
   "outputs": [
    {
     "data": {
      "text/html": [
       "<div>\n",
       "<style scoped>\n",
       "    .dataframe tbody tr th:only-of-type {\n",
       "        vertical-align: middle;\n",
       "    }\n",
       "\n",
       "    .dataframe tbody tr th {\n",
       "        vertical-align: top;\n",
       "    }\n",
       "\n",
       "    .dataframe thead th {\n",
       "        text-align: right;\n",
       "    }\n",
       "</style>\n",
       "<table border=\"1\" class=\"dataframe\">\n",
       "  <thead>\n",
       "    <tr style=\"text-align: right;\">\n",
       "      <th></th>\n",
       "      <th>contents_clean</th>\n",
       "      <th>label</th>\n",
       "    </tr>\n",
       "  </thead>\n",
       "  <tbody>\n",
       "    <tr>\n",
       "      <th>95</th>\n",
       "      <td>[You,  ,  ,  , understand,  , a,  , person,  ,...</td>\n",
       "      <td>Harper Lee</td>\n",
       "    </tr>\n",
       "    <tr>\n",
       "      <th>96</th>\n",
       "      <td>[You,  ,  ,  , write,  ,  , book,  ,  ,  ,  , ...</td>\n",
       "      <td>Madeleine L'Engle</td>\n",
       "    </tr>\n",
       "    <tr>\n",
       "      <th>97</th>\n",
       "      <td>[Never,  ,  ,  , truth,  ,  , people,  ,  ,  ,...</td>\n",
       "      <td>Mark Twain</td>\n",
       "    </tr>\n",
       "    <tr>\n",
       "      <th>98</th>\n",
       "      <td>[ , person, s,  , a,  , person,  ,  , matter, ...</td>\n",
       "      <td>Dr. Seuss</td>\n",
       "    </tr>\n",
       "    <tr>\n",
       "      <th>99</th>\n",
       "      <td>[ , a,  , mind,  ,  , books,  ,  , a,  , sword...</td>\n",
       "      <td>George R.R. Martin</td>\n",
       "    </tr>\n",
       "  </tbody>\n",
       "</table>\n",
       "</div>"
      ],
      "text/plain": [
       "                                       contents_clean               label\n",
       "95  [You,  ,  ,  , understand,  , a,  , person,  ,...          Harper Lee\n",
       "96  [You,  ,  ,  , write,  ,  , book,  ,  ,  ,  , ...   Madeleine L'Engle\n",
       "97  [Never,  ,  ,  , truth,  ,  , people,  ,  ,  ,...          Mark Twain\n",
       "98  [ , person, s,  , a,  , person,  ,  , matter, ...           Dr. Seuss\n",
       "99  [ , a,  , mind,  ,  , books,  ,  , a,  , sword...  George R.R. Martin"
      ]
     },
     "execution_count": 21,
     "metadata": {},
     "output_type": "execute_result"
    }
   ],
   "source": [
    "df_train=pd.DataFrame({'contents_clean':contents_clean,'label':df_news['author']})\n",
    "df_train.tail()"
   ]
  },
  {
   "cell_type": "code",
   "execution_count": 22,
   "metadata": {},
   "outputs": [
    {
     "data": {
      "text/plain": [
       "array(['Albert Einstein', 'J.K. Rowling', 'Jane Austen', 'Marilyn Monroe',\n",
       "       'André Gide', 'Thomas A. Edison', 'Eleanor Roosevelt',\n",
       "       'Steve Martin', 'Bob Marley', 'Dr. Seuss', 'Douglas Adams',\n",
       "       'Elie Wiesel', 'Friedrich Nietzsche', 'Mark Twain',\n",
       "       'Allen Saunders', 'Pablo Neruda', 'Ralph Waldo Emerson',\n",
       "       'Mother Teresa', 'Garrison Keillor', 'Jim Henson',\n",
       "       'Charles M. Schulz', 'William Nicholson', 'Jorge Luis Borges',\n",
       "       'George Eliot', 'George R.R. Martin', 'C.S. Lewis',\n",
       "       'Martin Luther King Jr.', 'James Baldwin', 'Haruki Murakami',\n",
       "       'Alexandre Dumas fils', 'Stephenie Meyer', 'Ernest Hemingway',\n",
       "       'Helen Keller', 'George Bernard Shaw', 'Charles Bukowski',\n",
       "       'Suzanne Collins', 'J.R.R. Tolkien', 'Alfred Tennyson',\n",
       "       'Terry Pratchett', 'J.D. Salinger', 'George Carlin', 'John Lennon',\n",
       "       'W.C. Fields', 'Jimi Hendrix', 'J.M. Barrie', 'E.E. Cummings',\n",
       "       'Khaled Hosseini', 'Harper Lee', \"Madeleine L'Engle\"], dtype=object)"
      ]
     },
     "execution_count": 22,
     "metadata": {},
     "output_type": "execute_result"
    }
   ],
   "source": [
    "df_train.label.unique()"
   ]
  }
 ],
 "metadata": {
  "kernelspec": {
   "display_name": "Python 3",
   "language": "python",
   "name": "python3"
  },
  "language_info": {
   "codemirror_mode": {
    "name": "ipython",
    "version": 3
   },
   "file_extension": ".py",
   "mimetype": "text/x-python",
   "name": "python",
   "nbconvert_exporter": "python",
   "pygments_lexer": "ipython3",
   "version": "3.7.6"
  }
 },
 "nbformat": 4,
 "nbformat_minor": 2
}
